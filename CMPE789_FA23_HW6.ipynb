{
  "nbformat": 4,
  "nbformat_minor": 0,
  "metadata": {
    "colab": {
      "provenance": [],
      "collapsed_sections": [
        "YlE8C_A2A_z4",
        "y_8i2VH5BUfV",
        "PqvjLpOVCU3M"
      ]
    },
    "kernelspec": {
      "name": "python3",
      "display_name": "Python 3"
    },
    "language_info": {
      "name": "python"
    }
  },
  "cells": [
    {
      "cell_type": "markdown",
      "source": [
        "# **Homework 6: Instance Segmentation**"
      ],
      "metadata": {
        "id": "rxQlUtc78urR"
      }
    },
    {
      "cell_type": "markdown",
      "source": [
        "Objectives:\n",
        "\n",
        "\n",
        "*   Review object detection with YOLOv3 from Homework 3\n",
        "*   Review semantic segmentation from Homework 5\n",
        "*   Combine object detection and semantic segmentation to implement instance segmentation method\n",
        "\n",
        "Total points: 100\n",
        "\n",
        "If any question, please contact the TAs via TA hours, or email.\n",
        "\n"
      ],
      "metadata": {
        "id": "P4ACgmBB8zj4"
      }
    },
    {
      "cell_type": "markdown",
      "source": [
        "## Introduction"
      ],
      "metadata": {
        "id": "TI-87akC9kZo"
      }
    },
    {
      "cell_type": "markdown",
      "source": [
        "In this homework, you'll use object detection and semantic segmentation techniques to perform instance segmentation on [the provided image](https://drive.google.com/file/d/1hnBJlCzjxtOtPFM6sGAynJIlAnGKmhqj/view?usp=sharing). The detailed steps are as follows:\n",
        "\n",
        "1. Detect three flasks in the image using YOLOv3\n",
        "2. For each flask, run the semantic segmentation inside the detection box\n",
        "3. Combine three results in one image, where each flask is indicated by a mask of unique color\n",
        "\n",
        "Hint:\n",
        "1. You can create a new image containing only one flask for each of them then perform the semantic segmentation. In this way, please be careful with when you do the scaling\n",
        "2. Or, for each detection box, you can cover all the pixels outside the box with mask of 0s to keep the original size\n",
        "\n",
        "**NOTE:**\n",
        "Please do the semantic segmentation seperately for the three flasks. Changing color of the whole segmentation result is not acceptable.\n",
        "\n",
        "Feel free to reuse the code from previous homeworks\n",
        "\n",
        "**Metric:**\n",
        "\n",
        "10 points for implementing object detection\\\n",
        "10 points for the correct bounding boxes\\\n",
        "20 points for seperating three flasks\\\n",
        "10 points for performing semantic segmentation on three new images\\\n",
        "20 points for combining three segmentation masks in one final mask\\\n",
        "30 points for visualization in both parts"
      ],
      "metadata": {
        "id": "fRlIqFN59mjE"
      }
    },
    {
      "cell_type": "markdown",
      "source": [
        "# Download and install"
      ],
      "metadata": {
        "id": "YlE8C_A2A_z4"
      }
    },
    {
      "cell_type": "code",
      "execution_count": null,
      "metadata": {
        "id": "8cpM22mkNiv-"
      },
      "outputs": [],
      "source": [
        "try:\n",
        "  !rm -rf HW3_object_track\n",
        "except:\n",
        "  pass\n",
        "\n",
        "# Get the flasks image\n",
        "!gdown 1hnBJlCzjxtOtPFM6sGAynJIlAnGKmhqj\n",
        "\n",
        "# Download data\n",
        "!gdown 1g10Er1vhNbrqa0pZf0R08B9RrmRxIoWt\n",
        "\n",
        "# Install filterpy\n",
        "! unzip LabPicsV1.zip\n",
        "\n",
        "from IPython.display import clear_output\n",
        "clear_output()\n",
        "\n",
        "# Get some essential codes\n",
        "!git clone https://github.com/JamesLiang819/HW3_object_track.git\n",
        "\n",
        "# Download pre-trained weights for yolov3\n",
        "!wget https://pjreddie.com/media/files/yolov3.weights\n",
        "\n",
        "# Install filterpy\n",
        "! pip install filterpy"
      ]
    },
    {
      "cell_type": "code",
      "execution_count": null,
      "metadata": {
        "id": "Jr7qtGEwkHGW"
      },
      "outputs": [],
      "source": [
        "from __future__ import print_function\n",
        "\n",
        "# Basic models and utils\n",
        "from HW3_object_track.models import *\n",
        "from HW3_object_track.utils import *\n",
        "\n",
        "# System\n",
        "import os, sys, time, datetime, random\n",
        "import argparse\n",
        "from numba import jit\n",
        "from tqdm import tqdm\n",
        "\n",
        "\n",
        "# Data processing\n",
        "import numpy as np\n",
        "from scipy.optimize import linear_sum_assignment as linear_assignment\n",
        "from filterpy.kalman import KalmanFilter\n",
        "\n",
        "# Pytorch\n",
        "import torch\n",
        "from torch.utils.data import DataLoader\n",
        "from torchvision import datasets, transforms\n",
        "import torchvision.transforms as tf\n",
        "import torchvision.models.segmentation\n",
        "from torch.autograd import Variable\n",
        "\n",
        "# Image processing\n",
        "import cv2\n",
        "import glob\n",
        "import matplotlib.pyplot as plt\n",
        "import matplotlib.patches as patches\n",
        "from PIL import Image\n",
        "from skimage import io"
      ]
    },
    {
      "cell_type": "markdown",
      "source": [
        "# Object Detection"
      ],
      "metadata": {
        "id": "y_8i2VH5BUfV"
      }
    },
    {
      "cell_type": "markdown",
      "source": [
        "Please refer to homework 3, be careful with the transformed bounding box.\n",
        "\n",
        "This should be the result of this step:\n",
        "\n",
        "https://drive.google.com/file/d/12v-E4JPSD9YSbJ3VU2siYq287HqnpOcN/view?usp=sharing\n"
      ],
      "metadata": {
        "id": "UzxVu3VgCBcD"
      }
    },
    {
      "cell_type": "code",
      "source": [],
      "metadata": {
        "id": "3umfFLOMFLkC"
      },
      "execution_count": null,
      "outputs": []
    },
    {
      "cell_type": "markdown",
      "source": [
        "# Instance Segmentation"
      ],
      "metadata": {
        "id": "PqvjLpOVCU3M"
      }
    },
    {
      "cell_type": "markdown",
      "source": [
        "For this part, please refer to homework 5\n",
        "This should be the result of this step:\n",
        "\n",
        "https://drive.google.com/file/d/1EmPjgvoNIJpCmuPRRJjeG_CU4dHuaWpF/view?usp=sharing"
      ],
      "metadata": {
        "id": "SvkpnZLuCaHw"
      }
    }
  ]
}